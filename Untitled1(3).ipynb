{
 "cells": [
  {
   "cell_type": "code",
   "execution_count": 1,
   "id": "3aa32cb6-61ce-4b91-9256-0a21ff5a6591",
   "metadata": {},
   "outputs": [
    {
     "name": "stdout",
     "output_type": "stream",
     "text": [
      "'m': 1\n"
     ]
    }
   ],
   "source": [
    "string =\"amir\"\n",
    "for i in range (len (string)):\n",
    "    if string[i] == 'm':\n",
    "        print(\"'m':\",i)"
   ]
  },
  {
   "cell_type": "code",
   "execution_count": null,
   "id": "d6b92997-9d55-4b3f-bc61-506b793b4226",
   "metadata": {},
   "outputs": [],
   "source": []
  }
 ],
 "metadata": {
  "kernelspec": {
   "display_name": "Python 3 (ipykernel)",
   "language": "python",
   "name": "python3"
  },
  "language_info": {
   "codemirror_mode": {
    "name": "ipython",
    "version": 3
   },
   "file_extension": ".py",
   "mimetype": "text/x-python",
   "name": "python",
   "nbconvert_exporter": "python",
   "pygments_lexer": "ipython3",
   "version": "3.8.1"
  }
 },
 "nbformat": 4,
 "nbformat_minor": 5
}
